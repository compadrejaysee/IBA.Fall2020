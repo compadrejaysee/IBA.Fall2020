{
 "cells": [
  {
   "cell_type": "code",
   "execution_count": 1,
   "metadata": {},
   "outputs": [],
   "source": [
    "import pandas as pd\n",
    "import numpy as np"
   ]
  },
  {
   "cell_type": "code",
   "execution_count": 2,
   "metadata": {},
   "outputs": [
    {
     "name": "stderr",
     "output_type": "stream",
     "text": [
      "C:\\Users\\yahya\\Anaconda3\\lib\\site-packages\\IPython\\core\\interactiveshell.py:3058: DtypeWarning: Columns (2) have mixed types.Specify dtype option on import or set low_memory=False.\n",
      "  interactivity=interactivity, compiler=compiler, result=result)\n"
     ]
    },
    {
     "data": {
      "text/html": [
       "<div>\n",
       "<style scoped>\n",
       "    .dataframe tbody tr th:only-of-type {\n",
       "        vertical-align: middle;\n",
       "    }\n",
       "\n",
       "    .dataframe tbody tr th {\n",
       "        vertical-align: top;\n",
       "    }\n",
       "\n",
       "    .dataframe thead th {\n",
       "        text-align: right;\n",
       "    }\n",
       "</style>\n",
       "<table border=\"1\" class=\"dataframe\">\n",
       "  <thead>\n",
       "    <tr style=\"text-align: right;\">\n",
       "      <th></th>\n",
       "      <th>date</th>\n",
       "      <th>time</th>\n",
       "      <th>timestamp</th>\n",
       "      <th>use [kW]</th>\n",
       "      <th>gen [kW]</th>\n",
       "      <th>House overall [kW]</th>\n",
       "      <th>Dishwasher [kW]</th>\n",
       "      <th>Furnace 1 [kW]</th>\n",
       "      <th>Furnace 2 [kW]</th>\n",
       "      <th>Home office [kW]</th>\n",
       "      <th>...</th>\n",
       "      <th>Wine cellar [kW]</th>\n",
       "      <th>Garage door [kW]</th>\n",
       "      <th>Kitchen 12 [kW]</th>\n",
       "      <th>Kitchen 14 [kW]</th>\n",
       "      <th>Kitchen 38 [kW]</th>\n",
       "      <th>Barn [kW]</th>\n",
       "      <th>Well [kW]</th>\n",
       "      <th>Microwave [kW]</th>\n",
       "      <th>Living room [kW]</th>\n",
       "      <th>Solar [kW]</th>\n",
       "    </tr>\n",
       "  </thead>\n",
       "  <tbody>\n",
       "    <tr>\n",
       "      <th>0</th>\n",
       "      <td>Friday, January 1, 2016</td>\n",
       "      <td>5:00:00 AM</td>\n",
       "      <td>1451624400</td>\n",
       "      <td>0.932833</td>\n",
       "      <td>0.003483</td>\n",
       "      <td>0.932833</td>\n",
       "      <td>0.000033</td>\n",
       "      <td>0.020700</td>\n",
       "      <td>0.061917</td>\n",
       "      <td>0.442633</td>\n",
       "      <td>...</td>\n",
       "      <td>0.006983</td>\n",
       "      <td>0.013083</td>\n",
       "      <td>0.000417</td>\n",
       "      <td>0.000150</td>\n",
       "      <td>0.000000</td>\n",
       "      <td>0.031350</td>\n",
       "      <td>0.001017</td>\n",
       "      <td>0.004067</td>\n",
       "      <td>0.001517</td>\n",
       "      <td>0.003483</td>\n",
       "    </tr>\n",
       "    <tr>\n",
       "      <th>1</th>\n",
       "      <td>Friday, January 1, 2016</td>\n",
       "      <td>5:00:01 AM</td>\n",
       "      <td>1451624401</td>\n",
       "      <td>0.934333</td>\n",
       "      <td>0.003467</td>\n",
       "      <td>0.934333</td>\n",
       "      <td>0.000000</td>\n",
       "      <td>0.020717</td>\n",
       "      <td>0.063817</td>\n",
       "      <td>0.444067</td>\n",
       "      <td>...</td>\n",
       "      <td>0.006983</td>\n",
       "      <td>0.013117</td>\n",
       "      <td>0.000417</td>\n",
       "      <td>0.000150</td>\n",
       "      <td>0.000000</td>\n",
       "      <td>0.031500</td>\n",
       "      <td>0.001017</td>\n",
       "      <td>0.004067</td>\n",
       "      <td>0.001650</td>\n",
       "      <td>0.003467</td>\n",
       "    </tr>\n",
       "    <tr>\n",
       "      <th>2</th>\n",
       "      <td>Friday, January 1, 2016</td>\n",
       "      <td>5:00:02 AM</td>\n",
       "      <td>1451624402</td>\n",
       "      <td>0.931817</td>\n",
       "      <td>0.003467</td>\n",
       "      <td>0.931817</td>\n",
       "      <td>0.000017</td>\n",
       "      <td>0.020700</td>\n",
       "      <td>0.062317</td>\n",
       "      <td>0.446067</td>\n",
       "      <td>...</td>\n",
       "      <td>0.006983</td>\n",
       "      <td>0.013083</td>\n",
       "      <td>0.000433</td>\n",
       "      <td>0.000167</td>\n",
       "      <td>0.000017</td>\n",
       "      <td>0.031517</td>\n",
       "      <td>0.001000</td>\n",
       "      <td>0.004067</td>\n",
       "      <td>0.001650</td>\n",
       "      <td>0.003467</td>\n",
       "    </tr>\n",
       "    <tr>\n",
       "      <th>3</th>\n",
       "      <td>Friday, January 1, 2016</td>\n",
       "      <td>5:00:03 AM</td>\n",
       "      <td>1451624403</td>\n",
       "      <td>1.022050</td>\n",
       "      <td>0.003483</td>\n",
       "      <td>1.022050</td>\n",
       "      <td>0.000017</td>\n",
       "      <td>0.106900</td>\n",
       "      <td>0.068517</td>\n",
       "      <td>0.446583</td>\n",
       "      <td>...</td>\n",
       "      <td>0.006983</td>\n",
       "      <td>0.013000</td>\n",
       "      <td>0.000433</td>\n",
       "      <td>0.000217</td>\n",
       "      <td>0.000000</td>\n",
       "      <td>0.031500</td>\n",
       "      <td>0.001017</td>\n",
       "      <td>0.004067</td>\n",
       "      <td>0.001617</td>\n",
       "      <td>0.003483</td>\n",
       "    </tr>\n",
       "    <tr>\n",
       "      <th>4</th>\n",
       "      <td>Friday, January 1, 2016</td>\n",
       "      <td>5:00:04 AM</td>\n",
       "      <td>1451624404</td>\n",
       "      <td>1.139400</td>\n",
       "      <td>0.003467</td>\n",
       "      <td>1.139400</td>\n",
       "      <td>0.000133</td>\n",
       "      <td>0.236933</td>\n",
       "      <td>0.063983</td>\n",
       "      <td>0.446533</td>\n",
       "      <td>...</td>\n",
       "      <td>0.006850</td>\n",
       "      <td>0.012783</td>\n",
       "      <td>0.000450</td>\n",
       "      <td>0.000333</td>\n",
       "      <td>0.000000</td>\n",
       "      <td>0.031500</td>\n",
       "      <td>0.001017</td>\n",
       "      <td>0.004067</td>\n",
       "      <td>0.001583</td>\n",
       "      <td>0.003467</td>\n",
       "    </tr>\n",
       "  </tbody>\n",
       "</table>\n",
       "<p>5 rows × 21 columns</p>\n",
       "</div>"
      ],
      "text/plain": [
       "                      date        time   timestamp  use [kW]  gen [kW]  \\\n",
       "0  Friday, January 1, 2016  5:00:00 AM  1451624400  0.932833  0.003483   \n",
       "1  Friday, January 1, 2016  5:00:01 AM  1451624401  0.934333  0.003467   \n",
       "2  Friday, January 1, 2016  5:00:02 AM  1451624402  0.931817  0.003467   \n",
       "3  Friday, January 1, 2016  5:00:03 AM  1451624403  1.022050  0.003483   \n",
       "4  Friday, January 1, 2016  5:00:04 AM  1451624404  1.139400  0.003467   \n",
       "\n",
       "   House overall [kW]  Dishwasher [kW]  Furnace 1 [kW]  Furnace 2 [kW]  \\\n",
       "0            0.932833         0.000033        0.020700        0.061917   \n",
       "1            0.934333         0.000000        0.020717        0.063817   \n",
       "2            0.931817         0.000017        0.020700        0.062317   \n",
       "3            1.022050         0.000017        0.106900        0.068517   \n",
       "4            1.139400         0.000133        0.236933        0.063983   \n",
       "\n",
       "   Home office [kW]  ...  Wine cellar [kW]  Garage door [kW]  Kitchen 12 [kW]  \\\n",
       "0          0.442633  ...          0.006983          0.013083         0.000417   \n",
       "1          0.444067  ...          0.006983          0.013117         0.000417   \n",
       "2          0.446067  ...          0.006983          0.013083         0.000433   \n",
       "3          0.446583  ...          0.006983          0.013000         0.000433   \n",
       "4          0.446533  ...          0.006850          0.012783         0.000450   \n",
       "\n",
       "   Kitchen 14 [kW]  Kitchen 38 [kW]  Barn [kW]  Well [kW]  Microwave [kW]  \\\n",
       "0         0.000150         0.000000   0.031350   0.001017        0.004067   \n",
       "1         0.000150         0.000000   0.031500   0.001017        0.004067   \n",
       "2         0.000167         0.000017   0.031517   0.001000        0.004067   \n",
       "3         0.000217         0.000000   0.031500   0.001017        0.004067   \n",
       "4         0.000333         0.000000   0.031500   0.001017        0.004067   \n",
       "\n",
       "   Living room [kW]  Solar [kW]  \n",
       "0          0.001517    0.003483  \n",
       "1          0.001650    0.003467  \n",
       "2          0.001650    0.003467  \n",
       "3          0.001617    0.003483  \n",
       "4          0.001583    0.003467  \n",
       "\n",
       "[5 rows x 21 columns]"
      ]
     },
     "execution_count": 2,
     "metadata": {},
     "output_type": "execute_result"
    }
   ],
   "source": [
    "df = pd.read_csv('Home.csv', encoding='utf8')\n",
    "df.head(5)"
   ]
  },
  {
   "cell_type": "code",
   "execution_count": 3,
   "metadata": {},
   "outputs": [
    {
     "data": {
      "text/html": [
       "<div>\n",
       "<style scoped>\n",
       "    .dataframe tbody tr th:only-of-type {\n",
       "        vertical-align: middle;\n",
       "    }\n",
       "\n",
       "    .dataframe tbody tr th {\n",
       "        vertical-align: top;\n",
       "    }\n",
       "\n",
       "    .dataframe thead th {\n",
       "        text-align: right;\n",
       "    }\n",
       "</style>\n",
       "<table border=\"1\" class=\"dataframe\">\n",
       "  <thead>\n",
       "    <tr style=\"text-align: right;\">\n",
       "      <th></th>\n",
       "      <th>room_id</th>\n",
       "      <th>house_id</th>\n",
       "      <th>room_name</th>\n",
       "      <th>description</th>\n",
       "      <th>sensor_count</th>\n",
       "    </tr>\n",
       "  </thead>\n",
       "  <tbody>\n",
       "    <tr>\n",
       "      <th>0</th>\n",
       "      <td>0</td>\n",
       "      <td>0</td>\n",
       "      <td>Kitchen</td>\n",
       "      <td>Kitchen has many sensors in it</td>\n",
       "      <td>3</td>\n",
       "    </tr>\n",
       "    <tr>\n",
       "      <th>1</th>\n",
       "      <td>1</td>\n",
       "      <td>0</td>\n",
       "      <td>Living Room</td>\n",
       "      <td>NaN</td>\n",
       "      <td>1</td>\n",
       "    </tr>\n",
       "    <tr>\n",
       "      <th>2</th>\n",
       "      <td>2</td>\n",
       "      <td>0</td>\n",
       "      <td>Home Office</td>\n",
       "      <td>NaN</td>\n",
       "      <td>1</td>\n",
       "    </tr>\n",
       "  </tbody>\n",
       "</table>\n",
       "</div>"
      ],
      "text/plain": [
       "   room_id  house_id    room_name                      description  \\\n",
       "0        0         0      Kitchen  Kitchen has many sensors in it    \n",
       "1        1         0  Living Room                              NaN   \n",
       "2        2         0  Home Office                              NaN   \n",
       "\n",
       "   sensor_count  \n",
       "0             3  \n",
       "1             1  \n",
       "2             1  "
      ]
     },
     "execution_count": 3,
     "metadata": {},
     "output_type": "execute_result"
    }
   ],
   "source": [
    "room = pd.read_csv('project_dataset/Rooms.csv', encoding='utf8')\n",
    "room.head(5)"
   ]
  },
  {
   "cell_type": "code",
   "execution_count": 4,
   "metadata": {},
   "outputs": [],
   "source": [
    "#room IDs are in room_id array\n",
    "room_id = room['room_id']"
   ]
  },
  {
   "cell_type": "code",
   "execution_count": 5,
   "metadata": {},
   "outputs": [],
   "source": [
    "#assign sensor ID\n",
    "dishwasher_id = 0\n",
    "fridge_id = 1\n",
    "microwave_id = 2\n",
    "livingroom_id = 3\n",
    "home_office_id = 4"
   ]
  },
  {
   "cell_type": "code",
   "execution_count": 6,
   "metadata": {},
   "outputs": [],
   "source": [
    "#Kitchen appliances Sensor Data\n",
    "dishwasher =  df['Dishwasher [kW]']\n",
    "fridge = df['Fridge [kW]']\n",
    "microwave = df['Microwave [kW]']\n",
    "livingroom = df['Living room [kW]']\n",
    "home_office = df['Home office [kW]']\n",
    "date_load = df['date']\n",
    "time_load = df['time']"
   ]
  },
  {
   "cell_type": "code",
   "execution_count": 7,
   "metadata": {},
   "outputs": [
    {
     "name": "stdout",
     "output_type": "stream",
     "text": [
      "503911\n"
     ]
    }
   ],
   "source": [
    "print(len(dishwasher))"
   ]
  },
  {
   "cell_type": "code",
   "execution_count": 8,
   "metadata": {},
   "outputs": [
    {
     "name": "stdout",
     "output_type": "stream",
     "text": [
      "2519555\n",
      "2519555\n",
      "2519555\n"
     ]
    }
   ],
   "source": [
    "power_consumption = [] \n",
    "applicance_id = []\n",
    "activity_ids = []\n",
    "date = []\n",
    "time = []\n",
    "startingid= 0\n",
    "for x in range(len(dishwasher)):\n",
    "    power_consumption.append(dishwasher[x])\n",
    "    applicance_id.append(dishwasher_id)\n",
    "    activity_ids.append(startingid)\n",
    "    date.append(date_load[x])\n",
    "    time.append(time_load[x])\n",
    "    startingid+=1\n",
    "    power_consumption.append(fridge[x])\n",
    "    applicance_id.append(fridge_id)\n",
    "    activity_ids.append(startingid)\n",
    "    date.append(date_load[x])\n",
    "    time.append(time_load[x])\n",
    "    startingid+=1\n",
    "    power_consumption.append(microwave[x])\n",
    "    applicance_id.append(microwave_id)\n",
    "    activity_ids.append(startingid)\n",
    "    date.append(date_load[x])\n",
    "    time.append(time_load[x])\n",
    "    startingid+=1\n",
    "    power_consumption.append(livingroom[x])\n",
    "    applicance_id.append(livingroom_id)\n",
    "    activity_ids.append(startingid)\n",
    "    date.append(date_load[x])\n",
    "    time.append(time_load[x])\n",
    "    startingid+=1\n",
    "    power_consumption.append(home_office[x])\n",
    "    applicance_id.append(home_office_id)\n",
    "    activity_ids.append(startingid)\n",
    "    date.append(date_load[x])\n",
    "    time.append(time_load[x])\n",
    "    startingid+=1\n",
    "   \n",
    "    \n",
    "print(len(power_consumption))\n",
    "print(len(applicance_id))\n",
    "print(startingid)"
   ]
  },
  {
   "cell_type": "code",
   "execution_count": 9,
   "metadata": {},
   "outputs": [
    {
     "name": "stdout",
     "output_type": "stream",
     "text": [
      "2519555\n"
     ]
    }
   ],
   "source": [
    "print(len(power_consumption))"
   ]
  },
  {
   "cell_type": "code",
   "execution_count": 10,
   "metadata": {},
   "outputs": [
    {
     "data": {
      "text/html": [
       "<div>\n",
       "<style scoped>\n",
       "    .dataframe tbody tr th:only-of-type {\n",
       "        vertical-align: middle;\n",
       "    }\n",
       "\n",
       "    .dataframe tbody tr th {\n",
       "        vertical-align: top;\n",
       "    }\n",
       "\n",
       "    .dataframe thead th {\n",
       "        text-align: right;\n",
       "    }\n",
       "</style>\n",
       "<table border=\"1\" class=\"dataframe\">\n",
       "  <thead>\n",
       "    <tr style=\"text-align: right;\">\n",
       "      <th></th>\n",
       "      <th>activity_id</th>\n",
       "      <th>appliance_id</th>\n",
       "      <th>current_state</th>\n",
       "      <th>power_conumption</th>\n",
       "      <th>date</th>\n",
       "      <th>time</th>\n",
       "    </tr>\n",
       "  </thead>\n",
       "  <tbody>\n",
       "  </tbody>\n",
       "</table>\n",
       "</div>"
      ],
      "text/plain": [
       "Empty DataFrame\n",
       "Columns: [activity_id, appliance_id, current_state, power_conumption, date, time]\n",
       "Index: []"
      ]
     },
     "execution_count": 10,
     "metadata": {},
     "output_type": "execute_result"
    }
   ],
   "source": [
    "activity = pd.read_csv('project_dataset/activity.csv')\n",
    "activity.head(5)"
   ]
  },
  {
   "cell_type": "code",
   "execution_count": 11,
   "metadata": {},
   "outputs": [],
   "source": [
    "activity['activity_id'] = activity_ids\n",
    "activity['appliance_id'] = applicance_id\n",
    "activity['power_conumption'] = power_consumption"
   ]
  },
  {
   "cell_type": "code",
   "execution_count": 12,
   "metadata": {},
   "outputs": [],
   "source": [
    "activity['date'] =date\n",
    "activity['time'] = time"
   ]
  },
  {
   "cell_type": "code",
   "execution_count": 13,
   "metadata": {},
   "outputs": [],
   "source": [
    "activity.to_csv('project_dataset/activity3.csv', index = False)"
   ]
  },
  {
   "cell_type": "code",
   "execution_count": 15,
   "metadata": {},
   "outputs": [
    {
     "data": {
      "text/html": [
       "<div>\n",
       "<style scoped>\n",
       "    .dataframe tbody tr th:only-of-type {\n",
       "        vertical-align: middle;\n",
       "    }\n",
       "\n",
       "    .dataframe tbody tr th {\n",
       "        vertical-align: top;\n",
       "    }\n",
       "\n",
       "    .dataframe thead th {\n",
       "        text-align: right;\n",
       "    }\n",
       "</style>\n",
       "<table border=\"1\" class=\"dataframe\">\n",
       "  <thead>\n",
       "    <tr style=\"text-align: right;\">\n",
       "      <th></th>\n",
       "      <th>activity_id</th>\n",
       "      <th>appliance_id</th>\n",
       "      <th>current_state</th>\n",
       "      <th>power_conumption</th>\n",
       "      <th>date</th>\n",
       "      <th>time</th>\n",
       "    </tr>\n",
       "  </thead>\n",
       "  <tbody>\n",
       "    <tr>\n",
       "      <th>0</th>\n",
       "      <td>0</td>\n",
       "      <td>0</td>\n",
       "      <td>NaN</td>\n",
       "      <td>0.000033</td>\n",
       "      <td>Friday, January 1, 2016</td>\n",
       "      <td>5:00:00 AM</td>\n",
       "    </tr>\n",
       "    <tr>\n",
       "      <th>1</th>\n",
       "      <td>1</td>\n",
       "      <td>1</td>\n",
       "      <td>NaN</td>\n",
       "      <td>0.124150</td>\n",
       "      <td>Friday, January 1, 2016</td>\n",
       "      <td>5:00:00 AM</td>\n",
       "    </tr>\n",
       "    <tr>\n",
       "      <th>2</th>\n",
       "      <td>2</td>\n",
       "      <td>2</td>\n",
       "      <td>NaN</td>\n",
       "      <td>0.004067</td>\n",
       "      <td>Friday, January 1, 2016</td>\n",
       "      <td>5:00:00 AM</td>\n",
       "    </tr>\n",
       "    <tr>\n",
       "      <th>3</th>\n",
       "      <td>3</td>\n",
       "      <td>3</td>\n",
       "      <td>NaN</td>\n",
       "      <td>0.001517</td>\n",
       "      <td>Friday, January 1, 2016</td>\n",
       "      <td>5:00:00 AM</td>\n",
       "    </tr>\n",
       "    <tr>\n",
       "      <th>4</th>\n",
       "      <td>4</td>\n",
       "      <td>4</td>\n",
       "      <td>NaN</td>\n",
       "      <td>0.442633</td>\n",
       "      <td>Friday, January 1, 2016</td>\n",
       "      <td>5:00:00 AM</td>\n",
       "    </tr>\n",
       "  </tbody>\n",
       "</table>\n",
       "</div>"
      ],
      "text/plain": [
       "   activity_id  appliance_id  current_state  power_conumption  \\\n",
       "0            0             0            NaN          0.000033   \n",
       "1            1             1            NaN          0.124150   \n",
       "2            2             2            NaN          0.004067   \n",
       "3            3             3            NaN          0.001517   \n",
       "4            4             4            NaN          0.442633   \n",
       "\n",
       "                      date        time  \n",
       "0  Friday, January 1, 2016  5:00:00 AM  \n",
       "1  Friday, January 1, 2016  5:00:00 AM  \n",
       "2  Friday, January 1, 2016  5:00:00 AM  \n",
       "3  Friday, January 1, 2016  5:00:00 AM  \n",
       "4  Friday, January 1, 2016  5:00:00 AM  "
      ]
     },
     "execution_count": 15,
     "metadata": {},
     "output_type": "execute_result"
    }
   ],
   "source": [
    "dailyconsumption = pd.read_csv('project_dataset/activity3.csv')\n",
    "dailyconsumption.head(5)"
   ]
  },
  {
   "cell_type": "code",
   "execution_count": 16,
   "metadata": {},
   "outputs": [],
   "source": [
    "sensor_id = dailyconsumption['appliance_id']\n",
    "power = dailyconsumption['power_conumption']"
   ]
  },
  {
   "cell_type": "code",
   "execution_count": 49,
   "metadata": {},
   "outputs": [
    {
     "name": "stdout",
     "output_type": "stream",
     "text": [
      "3\n"
     ]
    }
   ],
   "source": [
    "print(len(power)%7)"
   ]
  },
  {
   "cell_type": "code",
   "execution_count": 128,
   "metadata": {},
   "outputs": [
    {
     "name": "stdout",
     "output_type": "stream",
     "text": [
      "30\n",
      "30\n",
      "[0, 1, 2, 3, 4, 0, 1, 2, 3, 4, 0, 1, 2, 3, 4, 0, 1, 2, 3, 4, 0, 1, 2, 3, 4, 0, 1, 2, 3, 4]\n"
     ]
    }
   ],
   "source": [
    "start = 1\n",
    "daily_consumption = []\n",
    "daily_id = []\n",
    "sensor_id=[]\n",
    "id= 0\n",
    "for x in range(6):\n",
    "\n",
    "    daily_consumption.append(np.sum(dishwasher[86400*x:86400*(x+1)]))\n",
    "    sensor_id.append(0)\n",
    "    daily_id.append(id)\n",
    "    id+=1\n",
    "    daily_consumption.append(np.sum(fridge[86400*x:86400*(x+1)]))\n",
    "    sensor_id.append(1)\n",
    "    daily_id.append(id)\n",
    "    id+=1\n",
    "    daily_consumption.append( np.sum(microwave[86400*x:86400*(x+1)]))\n",
    "    sensor_id.append(2)\n",
    "    daily_id.append(id)\n",
    "    id+=1\n",
    "    daily_consumption.append(np.sum(livingroom[86400*x:86400*(x+1)]))\n",
    "    sensor_id.append(3)\n",
    "    daily_id.append(id)\n",
    "    id+=1\n",
    "    daily_consumption.append(np.sum(home_office[86400*x:86400*(x+1)]))\n",
    "    sensor_id.append(4)\n",
    "    daily_id.append(id)\n",
    "    id+=1\n",
    "\n",
    "print(len(daily_consumption))\n",
    "print(len(sensor_id))\n",
    "print(sensor_id)\n",
    "    \n",
    "    "
   ]
  },
  {
   "cell_type": "code",
   "execution_count": 131,
   "metadata": {},
   "outputs": [
    {
     "data": {
      "text/html": [
       "<div>\n",
       "<style scoped>\n",
       "    .dataframe tbody tr th:only-of-type {\n",
       "        vertical-align: middle;\n",
       "    }\n",
       "\n",
       "    .dataframe tbody tr th {\n",
       "        vertical-align: top;\n",
       "    }\n",
       "\n",
       "    .dataframe thead th {\n",
       "        text-align: right;\n",
       "    }\n",
       "</style>\n",
       "<table border=\"1\" class=\"dataframe\">\n",
       "  <thead>\n",
       "    <tr style=\"text-align: right;\">\n",
       "      <th></th>\n",
       "      <th>daily_id</th>\n",
       "      <th>sensor_id</th>\n",
       "      <th>total consumption</th>\n",
       "      <th>date</th>\n",
       "    </tr>\n",
       "  </thead>\n",
       "  <tbody>\n",
       "  </tbody>\n",
       "</table>\n",
       "</div>"
      ],
      "text/plain": [
       "Empty DataFrame\n",
       "Columns: [daily_id, sensor_id, total consumption, date]\n",
       "Index: []"
      ]
     },
     "execution_count": 131,
     "metadata": {},
     "output_type": "execute_result"
    }
   ],
   "source": [
    "consumption = pd.read_csv('project_dataset/daily_consumption.csv')\n",
    "consumption.head(5)"
   ]
  },
  {
   "cell_type": "code",
   "execution_count": 132,
   "metadata": {},
   "outputs": [],
   "source": [
    "consumption['daily_id'] = daily_id\n",
    "consumption['sensor_id'] = sensor_id\n",
    "consumption['total consumption'] = daily_consumption"
   ]
  },
  {
   "cell_type": "code",
   "execution_count": 133,
   "metadata": {},
   "outputs": [],
   "source": [
    "consumption.to_csv('project_dataset/daily_consumption2.csv', index = False)"
   ]
  },
  {
   "cell_type": "code",
   "execution_count": null,
   "metadata": {},
   "outputs": [],
   "source": []
  }
 ],
 "metadata": {
  "kernelspec": {
   "display_name": "Python 3",
   "language": "python",
   "name": "python3"
  },
  "language_info": {
   "codemirror_mode": {
    "name": "ipython",
    "version": 3
   },
   "file_extension": ".py",
   "mimetype": "text/x-python",
   "name": "python",
   "nbconvert_exporter": "python",
   "pygments_lexer": "ipython3",
   "version": "3.7.4"
  }
 },
 "nbformat": 4,
 "nbformat_minor": 2
}
