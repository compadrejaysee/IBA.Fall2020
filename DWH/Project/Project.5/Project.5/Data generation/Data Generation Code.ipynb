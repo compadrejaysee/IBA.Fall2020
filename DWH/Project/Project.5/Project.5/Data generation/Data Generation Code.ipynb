{
 "cells": [
  {
   "cell_type": "markdown",
   "metadata": {},
   "source": [
    "I've imported pandas to store information regarding each table in the ERD,I plan on filling each Dataframe for each table.\n",
    "Display & HTML are purely for pretty printing in the ipynb file.\n",
    "I've used Faker to generate a realistic and random dataset."
   ]
  },
  {
   "cell_type": "code",
   "execution_count": null,
   "metadata": {
    "scrolled": true
   },
   "outputs": [],
   "source": [
    "! pip install Faker\n",
    "\n",
    "import pandas as pd\n",
    "from IPython.display import display, HTML\n",
    "from faker import Faker"
   ]
  },
  {
   "cell_type": "markdown",
   "metadata": {},
   "source": [
    "I've made a dataframe for each table and initialized each column header according to the table's attributes.\n",
    "The reason I've used Panda's dataframe is because it is very easy to manipulate and pretty print especially when you're working with large datasets. It's also extremely easy to generate a CSV file using Panda's dataframe."
   ]
  },
  {
   "cell_type": "code",
   "execution_count": null,
   "metadata": {},
   "outputs": [],
   "source": [
    "#Declare Dataframes for each table\n",
    "\n",
    "adminDataFrame = pd.DataFrame(columns=['adminID','adminName','loginID','password','adminType'])\n",
    "customerDataFrame = pd.DataFrame(columns=['custID','custName','customerType','emailID','address','provice','city','pincode','password'])\n",
    "accountDataFrame = pd.DataFrame(columns=['accountID','custID','meterID','accountNumber','name','address','accountStatus'])\n",
    "invoiceDataFrame = pd.DataFrame(columns=['invoiceID','meterID','accountNumber','tarrifID','readingDate','dueDate','billNumber','presentReading','previousReading','consumptionUnit','fixedCharge','EnergyCharge','Tax','billAmount','interest','previousBalance','interestBalanceAmount','credit','netAmount','status'])\n",
    "meterDataFrame = pd.DataFrame(columns=['meterID','meterType'])\n",
    "tarrifDataFrame = pd.DataFrame(columns=['tarrifID','tarrifType','tarrifDescription'])\n",
    "billingDataFrame = pd.DataFrame(columns =['billID','custID','invoiceID','accountID','paymentMode','paymentDate','paymentTime','billAmount','paidAmount','excessPaid'])"
   ]
  },
  {
   "cell_type": "markdown",
   "metadata": {},
   "source": [
    "Following cells showcases all the functions that I've used or could've used in my data generation, The reason I chose Faker was because I wanted to generate extremely realistic datasets, note every function call to Facker produces an External API request, more on that later."
   ]
  },
  {
   "cell_type": "code",
   "execution_count": null,
   "metadata": {},
   "outputs": [],
   "source": [
    "#Random data fetcher\n",
    "fake = Faker()\n",
    "print('\\nRandom Name : \\n'+fake.name())\n",
    "print('\\nRandom Address : \\n'+fake.street_address())\n",
    "print('\\nRandom City : \\n'+fake.city())\n",
    "print('\\nRandom Postal Code : \\n'+fake.postcode())\n",
    "print('\\nRandom Phone Number : \\n'+fake.phone_number())\n",
    "print('\\nRandom Date : \\n'+fake.date(pattern='%Y-%m-%d', end_datetime=None))\n",
    "print('\\nRandom Time : \\n'+fake.time(pattern='%H:%M:%S', end_datetime=None))\n",
    "print('\\nRandom Date Before : \\n',fake.date_this_year(before_today=True, after_today=False).year)\n",
    "print('\\nRandom Date After : \\n',fake.date_this_year(before_today=False, after_today=True).year)\n",
    "print('\\nRandom Integer : \\n',fake.random_int(min=0, max=9999, step=1))\n",
    "print('\\nRandom Email : \\n'+fake.profile(sex='F').get('mail'))\n",
    "print('\\nRandom Encrypted Password : \\n'+fake.password())\n",
    "print('\\nRandom Description : \\n'+fake.text())\n",
    "\n"
   ]
  },
  {
   "cell_type": "markdown",
   "metadata": {},
   "source": [
    "There are certain attributes which need to be filled using business knowledge we gathered in the previous phase of the project, or that have to do with very specific details, I've declared those variables over here, and I'll be using these later on."
   ]
  },
  {
   "cell_type": "code",
   "execution_count": null,
   "metadata": {},
   "outputs": [],
   "source": [
    "#fixed data\n",
    "adminType = ['Super Admin','Basic Rights']\n",
    "customerType = ['Residencial','Commercial']\n",
    "accountStatus = ['active','in-active']\n",
    "paymentMode = ['cash','bank transfer','credit']\n",
    "tarrifType = ['Area factor','Time factor']\n",
    "tarrifDescription=['Factor applied to different Areas depending on average Income','Factor applied at different intervals during the day']\n",
    "meterType = ['Digital','Variable','Dial','Smart']\n",
    "invoiceStatus = ['payed','due']\n",
    "provinces = ['Sindh','Punjab','Balochistan','KPK','Giglit Baltistan']"
   ]
  },
  {
   "cell_type": "markdown",
   "metadata": {},
   "source": [
    "certain tables in the datasets contain secondary information that gets referenced throughout the OLTP database, The reason to generate them separately is because their size is usually very restricted, and varies for each attribute. "
   ]
  },
  {
   "cell_type": "code",
   "execution_count": null,
   "metadata": {
    "scrolled": true
   },
   "outputs": [],
   "source": [
    "#Generating Secondary tables\n",
    "def generateMeterTable():\n",
    "    for i in range(len(meterType)):\n",
    "        meterDataFrame.loc[i] = [i,meterType[i]]\n",
    "        \n",
    "def generateTarrifTable():\n",
    "    for i in range(len(tarrifType)):\n",
    "        tarrifDataFrame.loc[i] = [i,tarrifType[i],tarrifDescription[i]]\n",
    "        \n",
    "def generateAdminTable():\n",
    "    length = 100\n",
    "    for i in range(length):\n",
    "        adminDataFrame.loc[i] = [i,fake.name(),i ,fake.password() , adminType[i%2]]\n",
    "        \n",
    "generateMeterTable()\n",
    "generateTarrifTable()\n",
    "generateAdminTable()\n",
    "display(HTML(meterDataFrame.to_html()))\n",
    "display(HTML(tarrifDataFrame.to_html()))\n",
    "display(HTML(adminDataFrame.to_html()))"
   ]
  },
  {
   "cell_type": "markdown",
   "metadata": {},
   "source": [
    "This cell block generates the dataset, loop generates 30000 rows, the reason for such a small amount is that my obsession with generating realistic dataset introduced External API calls (Faker), Faker's backend has to handle these requests and so it can't just let us keep making 1000s of requests per seconds due to network traffic restrictions, Which is why they throttle the number of requests we can make, slowing the process of generating data exponentially.\n",
    "Although it allows us to make 100s of requests per second however, as the requests go up it throttles the number of requests even more so much so that once i've generated 20000 rows it limits us to 5 requests per second.\n",
    "\n",
    "Generating these 30k rows on my PC took over 2 hours.\n",
    "\n"
   ]
  },
  {
   "cell_type": "code",
   "execution_count": null,
   "metadata": {
    "scrolled": false
   },
   "outputs": [],
   "source": [
    "#Generating Primary tables\n",
    "for i in range (30001):\n",
    "    custProfile = fake.profile(sex='M')\n",
    "    randomDate = fake.date(pattern='%Y-%m-%d', end_datetime=None)\n",
    "    randomDate2 = fake.date(pattern='%Y-%m-%d', end_datetime=None)\n",
    "    randomTime = fake.time(pattern='%H:%M:%S', end_datetime=None)\n",
    "    randomInteger = fake.random_int(min=0, max=9999, step=1)\n",
    "\n",
    "    customerDataFrame.loc[i] = [i,custProfile.get('name'),customerType[i%2],custProfile.get('mail'),fake.street_address(),provinces[i%5],fake.city(),fake.postcode(),fake.password()]\n",
    "    billingDataFrame.loc[i] = [i,i,i,i,paymentMode[i%3],randomDate,randomTime,randomInteger,randomInteger+i,i]\n",
    "    accountDataFrame.loc[i] = [i,i,i%len(meterType),i,custProfile.get('name'),fake.street_address(),accountStatus[i%2]]\n",
    "    invoiceDataFrame.loc[i] = [i,i%len(meterType),i,i%len(tarrifType),randomDate,randomDate2,i,randomInteger,randomInteger/2,\"KWH\",randomInteger/10,randomInteger/15,(randomInteger*2/7),(randomInteger+100*2),\"12.5%\",randomInteger/2,(randomInteger/2),randomInteger,randomInteger*5,invoiceStatus[i%2]]\n",
    "    print(i)"
   ]
  },
  {
   "cell_type": "code",
   "execution_count": null,
   "metadata": {},
   "outputs": [],
   "source": [
    "display(HTML(customerDataFrame.to_html()))\n",
    "display(HTML(billingDataFrame.to_html()))\n",
    "display(HTML(accountDataFrame.to_html()))\n",
    "display(HTML(invoiceDataFrame.to_html()))\n",
    "\n",
    "\n"
   ]
  },
  {
   "cell_type": "code",
   "execution_count": null,
   "metadata": {},
   "outputs": [],
   "source": [
    "#Saving Data frames (tables) as CSV Files\n",
    "adminDataFrame.to_csv('adminTable.csv',index=False)\n",
    "customerDataFrame.to_csv('customerTable.csv',index=False) \n",
    "accountDataFrame.to_csv('accountTable.csv',index=False)\n",
    "invoiceDataFrame.to_csv('invoiceTable.csv',index=False)\n",
    "meterDataFrame.to_csv('meterTable.csv',index=False)\n",
    "tarrifDataFrame.to_csv('tarrifTable.csv',index=False)\n",
    "billingDataFrame.to_csv('billingTable.csv',index=False) "
   ]
  },
  {
   "cell_type": "markdown",
   "metadata": {},
   "source": [
    "I'd like to apologize for the limitted number of rows, Although I've used 30k rows they are nowhere near enough for big data. I hope the realistic dataset makes up for it, I would've completely turned it around but I was extremely busy with my Projects and Finals along with my Final year project assignments, and I had to leave karachi on 8th of January.\n",
    "Sorry."
   ]
  },
  {
   "cell_type": "code",
   "execution_count": null,
   "metadata": {},
   "outputs": [],
   "source": []
  }
 ],
 "metadata": {
  "kernelspec": {
   "display_name": "Python 3",
   "language": "python",
   "name": "python3"
  },
  "language_info": {
   "codemirror_mode": {
    "name": "ipython",
    "version": 3
   },
   "file_extension": ".py",
   "mimetype": "text/x-python",
   "name": "python",
   "nbconvert_exporter": "python",
   "pygments_lexer": "ipython3",
   "version": "3.7.4"
  }
 },
 "nbformat": 4,
 "nbformat_minor": 4
}
